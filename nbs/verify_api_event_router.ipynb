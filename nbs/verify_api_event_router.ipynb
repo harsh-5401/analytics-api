{
 "cells": [
  {
   "cell_type": "code",
   "execution_count": 2,
   "id": "bc700488",
   "metadata": {},
   "outputs": [
    {
     "data": {
      "text/plain": [
       "'http://localhost:8002/api/events'"
      ]
     },
     "execution_count": 2,
     "metadata": {},
     "output_type": "execute_result"
    }
   ],
   "source": [
    "import requests\n",
    "\n",
    "path=\"/api/events\"\n",
    "baseurl=\"http://localhost:8002\"\n",
    "endpoint=baseurl+path\n",
    "endpoint"
   ]
  },
  {
   "cell_type": "code",
   "execution_count": 3,
   "id": "2e3baec2",
   "metadata": {},
   "outputs": [
    {
     "data": {
      "text/plain": [
       "<Response [200]>"
      ]
     },
     "execution_count": 3,
     "metadata": {},
     "output_type": "execute_result"
    }
   ],
   "source": [
    "response=requests.get(endpoint)\n",
    "response"
   ]
  },
  {
   "cell_type": "code",
   "execution_count": 4,
   "id": "3b03d4f3",
   "metadata": {},
   "outputs": [
    {
     "data": {
      "text/plain": [
       "True"
      ]
     },
     "execution_count": 4,
     "metadata": {},
     "output_type": "execute_result"
    }
   ],
   "source": [
    "response.ok"
   ]
  },
  {
   "cell_type": "code",
   "execution_count": 5,
   "id": "563b348d",
   "metadata": {},
   "outputs": [
    {
     "name": "stdout",
     "output_type": "stream",
     "text": [
      "{'result': [{'id': 1}, {'id': 2}], 'count': 88}\n",
      "None\n"
     ]
    }
   ],
   "source": [
    "if response.ok:\n",
    "    data=response.json()\n",
    "    print(data)\n",
    "    print(data.get(\"items\"))"
   ]
  },
  {
   "cell_type": "code",
   "execution_count": 21,
   "id": "fd650805",
   "metadata": {},
   "outputs": [
    {
     "name": "stdout",
     "output_type": "stream",
     "text": [
      "<Response [500]>\n",
      "{'date': 'Wed, 24 Sep 2025 20:26:28 GMT', 'server': 'uvicorn', 'content-length': '21', 'content-type': 'text/plain; charset=utf-8'}\n",
      "Internal Server Error\n"
     ]
    }
   ],
   "source": [
    "\n",
    "import json\n",
    "\n",
    "data={\"page\" : \"/text++\"}\n",
    "\n",
    "response=requests.post(endpoint , data=json.dumps(data))\n",
    "print(response)\n",
    "print(response.headers)\n",
    "if response.ok:\n",
    "    data=response.json()\n",
    "    print(data)\n",
    "else:\n",
    "    print(response.text)    "
   ]
  },
  {
   "cell_type": "code",
   "execution_count": null,
   "id": "e025533f",
   "metadata": {},
   "outputs": [
    {
     "data": {
      "text/plain": [
       "{'id': 123}"
      ]
     },
     "execution_count": 9,
     "metadata": {},
     "output_type": "execute_result"
    }
   ],
   "source": []
  },
  {
   "cell_type": "code",
   "execution_count": null,
   "id": "5583b9fc",
   "metadata": {},
   "outputs": [
    {
     "data": {
      "text/plain": [
       "{'date': 'Wed, 24 Sep 2025 20:17:26 GMT', 'server': 'uvicorn', 'content-length': '10', 'content-type': 'application/json'}"
      ]
     },
     "execution_count": 10,
     "metadata": {},
     "output_type": "execute_result"
    }
   ],
   "source": []
  },
  {
   "cell_type": "code",
   "execution_count": null,
   "id": "e5013115",
   "metadata": {},
   "outputs": [],
   "source": []
  }
 ],
 "metadata": {
  "kernelspec": {
   "display_name": "Python 3",
   "language": "python",
   "name": "python3"
  },
  "language_info": {
   "codemirror_mode": {
    "name": "ipython",
    "version": 3
   },
   "file_extension": ".py",
   "mimetype": "text/x-python",
   "name": "python",
   "nbconvert_exporter": "python",
   "pygments_lexer": "ipython3",
   "version": "3.12.11"
  }
 },
 "nbformat": 4,
 "nbformat_minor": 5
}
