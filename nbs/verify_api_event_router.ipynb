{
 "cells": [
  {
   "cell_type": "code",
   "execution_count": 25,
   "id": "bc700488",
   "metadata": {},
   "outputs": [
    {
     "data": {
      "text/plain": [
       "'http://localhost:8002/api/events'"
      ]
     },
     "execution_count": 25,
     "metadata": {},
     "output_type": "execute_result"
    }
   ],
   "source": [
    "import requests\n",
    "\n",
    "path=\"/api/events\"\n",
    "baseurl=\"http://localhost:8002\"\n",
    "endpoint=baseurl+path\n",
    "endpoint"
   ]
  },
  {
   "cell_type": "code",
   "execution_count": 36,
   "id": "2e3baec2",
   "metadata": {},
   "outputs": [
    {
     "data": {
      "text/plain": [
       "<Response [200]>"
      ]
     },
     "execution_count": 36,
     "metadata": {},
     "output_type": "execute_result"
    }
   ],
   "source": [
    "response=requests.get(endpoint)\n",
    "response"
   ]
  },
  {
   "cell_type": "code",
   "execution_count": 27,
   "id": "3b03d4f3",
   "metadata": {},
   "outputs": [
    {
     "data": {
      "text/plain": [
       "True"
      ]
     },
     "execution_count": 27,
     "metadata": {},
     "output_type": "execute_result"
    }
   ],
   "source": [
    "response.ok"
   ]
  },
  {
   "cell_type": "markdown",
   "id": "c46d25c7",
   "metadata": {},
   "source": []
  },
  {
   "cell_type": "code",
   "execution_count": 37,
   "id": "563b348d",
   "metadata": {},
   "outputs": [
    {
     "name": "stdout",
     "output_type": "stream",
     "text": [
      "{'count': 4,\n",
      " 'result': [{'description': 'How hi', 'id': 1, 'page': 'Harsh'},\n",
      "            {'description': 'How hi', 'id': 2, 'page': 'Harsh'},\n",
      "            {'description': 'How hi', 'id': 3, 'page': 'Harsh'},\n",
      "            {'description': 'How hi', 'id': 4, 'page': 'Harsh'}]}\n",
      "None\n"
     ]
    }
   ],
   "source": [
    "from pprint import pprint\n",
    "\n",
    "if response.ok:\n",
    "    data=response.json()\n",
    "    pprint(data)\n",
    "    pprint(data.get(\"items\"))"
   ]
  },
  {
   "cell_type": "code",
   "execution_count": 49,
   "id": "fd650805",
   "metadata": {},
   "outputs": [
    {
     "name": "stdout",
     "output_type": "stream",
     "text": [
      "http://localhost:8002/api/events\n",
      "<Response [200]>\n",
      "{'date': 'Wed, 24 Sep 2025 23:15:42 GMT', 'server': 'uvicorn', 'content-length': '46', 'content-type': 'application/json'}\n",
      "{'description': 'How hi', 'id': 8, 'page': 'Harsh'}\n"
     ]
    }
   ],
   "source": [
    "\n",
    "import json\n",
    "from pprint import pprint\n",
    "\n",
    "data={\"page\" : \"/text++\"}\n",
    "path=\"/api/events\"\n",
    "baseurl=\"http://localhost:8002\"\n",
    "endpoint=baseurl+path\n",
    "print(endpoint)\n",
    "\n",
    "data={\n",
    "    \"page\":\"Harsh\",\n",
    "    \"description\" :\"How hi\"\n",
    "}\n",
    "\n",
    "response=requests.post(endpoint , data=json.dumps(data))\n",
    "pprint(response)\n",
    "pprint(response.headers)\n",
    "if response.ok:\n",
    "    data=response.json()\n",
    "    pprint(data)\n",
    "else:\n",
    "    pprint(response.text)    "
   ]
  },
  {
   "cell_type": "code",
   "execution_count": 46,
   "id": "e025533f",
   "metadata": {},
   "outputs": [
    {
     "name": "stdout",
     "output_type": "stream",
     "text": [
      "http://localhost:8002/api/events/2\n",
      "<Response [200]>\n",
      "{'date': 'Wed, 24 Sep 2025 23:15:20 GMT', 'server': 'uvicorn', 'content-length': '46', 'content-type': 'application/json'}\n",
      "{'description': 'vaaari', 'id': 2, 'page': 'Harsh'}\n"
     ]
    }
   ],
   "source": [
    "import json\n",
    "import requests\n",
    "\n",
    "path=\"/api/events/2\"\n",
    "baseurl=\"http://localhost:8002\"\n",
    "endpoint=baseurl+path\n",
    "print(endpoint)\n",
    "\n",
    "data={\"page\" : \"/text++\"}\n",
    "\n",
    "response=requests.put(endpoint ,json={\"description\" : \"vaaari\"} )\n",
    "print(response)\n",
    "print(response.headers)\n",
    "if response.ok:\n",
    "    data=response.json()\n",
    "    print(data)\n",
    "else:\n",
    "    print(response.text)    "
   ]
  },
  {
   "cell_type": "code",
   "execution_count": 52,
   "id": "5583b9fc",
   "metadata": {},
   "outputs": [
    {
     "name": "stdout",
     "output_type": "stream",
     "text": [
      "http://localhost:8002/api/events/8\n",
      "<Response [200]>\n",
      "{'date': 'Wed, 24 Sep 2025 23:24:01 GMT', 'server': 'uvicorn', 'content-length': '46', 'content-type': 'application/json'}\n",
      "{'description': 'How hi', 'id': 8, 'page': 'Harsh'}\n"
     ]
    }
   ],
   "source": [
    "import json\n",
    "import requests\n",
    "\n",
    "path=\"/api/events/8\"\n",
    "baseurl=\"http://localhost:8002\"\n",
    "endpoint=baseurl+path\n",
    "print(endpoint)\n",
    "\n",
    "data={\"page\" : \"/text++\"}\n",
    "\n",
    "response=requests.delete(endpoint)\n",
    "print(response)\n",
    "print(response.headers)\n",
    "if response.ok:\n",
    "    data=response.json()\n",
    "    print(data)\n",
    "else:\n",
    "    print(response.text)    "
   ]
  },
  {
   "cell_type": "code",
   "execution_count": null,
   "id": "e5013115",
   "metadata": {},
   "outputs": [],
   "source": []
  }
 ],
 "metadata": {
  "kernelspec": {
   "display_name": "Python 3",
   "language": "python",
   "name": "python3"
  },
  "language_info": {
   "codemirror_mode": {
    "name": "ipython",
    "version": 3
   },
   "file_extension": ".py",
   "mimetype": "text/x-python",
   "name": "python",
   "nbconvert_exporter": "python",
   "pygments_lexer": "ipython3",
   "version": "3.12.11"
  }
 },
 "nbformat": 4,
 "nbformat_minor": 5
}
