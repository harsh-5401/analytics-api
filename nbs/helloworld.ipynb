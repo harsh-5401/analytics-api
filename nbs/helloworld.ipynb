{
 "cells": [
  {
   "cell_type": "code",
   "execution_count": null,
   "id": "cc24a561",
   "metadata": {},
   "outputs": [
    {
     "ename": "",
     "evalue": "",
     "output_type": "error",
     "traceback": [
      "\u001b[1;31mRunning cells with 'venv (Python 3.12.11)' requires the ipykernel package.\n",
      "\u001b[1;31mInstall 'ipykernel' into the Python environment. \n",
      "\u001b[1;31mCommand: 'conda install -p d:\\codes\\fastapi\\venv ipykernel --update-deps --force-reinstall'"
     ]
    }
   ],
   "source": [
    "hello world"
   ]
  },
  {
   "cell_type": "code",
   "execution_count": 6,
   "id": "70390afa",
   "metadata": {},
   "outputs": [],
   "source": [
    "import requests\n",
    "import httpx\n"
   ]
  },
  {
   "cell_type": "code",
   "execution_count": 7,
   "id": "1562342d",
   "metadata": {},
   "outputs": [
    {
     "data": {
      "text/plain": [
       "'http://localhost:8002/health'"
      ]
     },
     "execution_count": 7,
     "metadata": {},
     "output_type": "execute_result"
    }
   ],
   "source": [
    "path=\"/health\"\n",
    "baseurl=\"http://localhost:8002\"\n",
    "endpoint=baseurl+path\n",
    "endpoint\n"
   ]
  },
  {
   "cell_type": "code",
   "execution_count": 11,
   "id": "5d3fa6eb",
   "metadata": {},
   "outputs": [
    {
     "name": "stdout",
     "output_type": "stream",
     "text": [
      "True\n"
     ]
    }
   ],
   "source": [
    "response=requests.get(endpoint)\n",
    "print(response.ok)"
   ]
  },
  {
   "cell_type": "code",
   "execution_count": null,
   "id": "005281c4",
   "metadata": {},
   "outputs": [],
   "source": []
  }
 ],
 "metadata": {
  "kernelspec": {
   "display_name": "Python 3",
   "language": "python",
   "name": "python3"
  },
  "language_info": {
   "codemirror_mode": {
    "name": "ipython",
    "version": 3
   },
   "file_extension": ".py",
   "mimetype": "text/x-python",
   "name": "python",
   "nbconvert_exporter": "python",
   "pygments_lexer": "ipython3",
   "version": "3.12.11"
  }
 },
 "nbformat": 4,
 "nbformat_minor": 5
}
