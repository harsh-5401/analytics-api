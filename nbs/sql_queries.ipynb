{
 "cells": [
  {
   "cell_type": "code",
   "execution_count": 1,
   "id": "48542333",
   "metadata": {},
   "outputs": [],
   "source": [
    "import sys\n",
    "from pathlib import Path"
   ]
  },
  {
   "cell_type": "code",
   "execution_count": 2,
   "id": "49b2d6b9",
   "metadata": {},
   "outputs": [],
   "source": [
    "src_path=Path(\"../src\").resolve()\n",
    "sys.path.append(str(src_path))"
   ]
  },
  {
   "cell_type": "code",
   "execution_count": 3,
   "id": "40226bbb",
   "metadata": {},
   "outputs": [],
   "source": [
    "from sqlmodel import Session, select\n",
    "from api.events.timescale_models import EventModel\n",
    "from api.db.session import engine\n",
    "from pprint import pprint"
   ]
  },
  {
   "cell_type": "code",
   "execution_count": null,
   "id": "a4530bc9",
   "metadata": {},
   "outputs": [
    {
     "name": "stdout",
     "output_type": "stream",
     "text": [
      "SELECT eventmodel.id, eventmodel.time, eventmodel.page, eventmodel.description, eventmodel.updated_at \n",
      "FROM eventmodel ORDER BY eventmodel.updated_at ASC\n",
      " LIMIT 100\n",
      "\n",
      "\n",
      "('SELECT eventmodel.id, eventmodel.time, eventmodel.page, '\n",
      " 'eventmodel.description, eventmodel.updated_at \\n'\n",
      " 'FROM eventmodel ORDER BY eventmodel.updated_at ASC\\n'\n",
      " ' LIMIT :param_1')\n"
     ]
    }
   ],
   "source": [
    "with Session(engine) as session:\n",
    "    query = select(EventModel).order_by(EventModel.updated_at.asc()).limit(100)\n",
    "    compiled_query=query.compile(compile_kwargs={\"literal_binds\" : True})\n",
    "    print(compiled_query)\n",
    "    print(\"\\n\")\n",
    "    pprint(str(query))"
   ]
  },
  {
   "cell_type": "code",
   "execution_count": 34,
   "id": "bed14f60",
   "metadata": {},
   "outputs": [
    {
     "name": "stdout",
     "output_type": "stream",
     "text": [
      "SELECT time_bucket('1 day'::interval, eventmodel.page) AS time_bucket_1, eventmodel.page, count(*) AS count_1 \n",
      "FROM eventmodel GROUP BY time_bucket('1 day'::interval, eventmodel.page), eventmodel.page\n",
      "\n",
      "\n",
      "(\"SELECT time_bucket('1 day'::interval, eventmodel.page) AS time_bucket_1, \"\n",
      " 'eventmodel.page, count(*) AS count_1 \\n'\n",
      " \"FROM eventmodel GROUP BY time_bucket('1 day'::interval, eventmodel.page), \"\n",
      " 'eventmodel.page')\n"
     ]
    }
   ],
   "source": [
    "from timescaledb.hyperfunctions import time_bucket\n",
    "from sqlalchemy import func\n",
    "with Session(engine) as session:\n",
    "    bucket=time_bucket(\"1 day\" , EventModel.page)\n",
    "    query = ( \n",
    "        select(bucket , EventModel.page , func.count() )\n",
    "        .group_by(\n",
    "            bucket,\n",
    "            EventModel.page\n",
    "        )\n",
    "    )\n",
    "    compiled_query=query.compile(compile_kwargs={\"literal_binds\" : True})\n",
    "    # result=session.exec(query).fetchall()\n",
    "\n",
    "    print(compiled_query)\n",
    "    print(\"\\n\")\n",
    "    pprint(str(query))"
   ]
  },
  {
   "cell_type": "code",
   "execution_count": null,
   "id": "d864373f",
   "metadata": {},
   "outputs": [],
   "source": []
  }
 ],
 "metadata": {
  "kernelspec": {
   "display_name": "Python 3",
   "language": "python",
   "name": "python3"
  },
  "language_info": {
   "codemirror_mode": {
    "name": "ipython",
    "version": 3
   },
   "file_extension": ".py",
   "mimetype": "text/x-python",
   "name": "python",
   "nbconvert_exporter": "python",
   "pygments_lexer": "ipython3",
   "version": "3.12.11"
  }
 },
 "nbformat": 4,
 "nbformat_minor": 5
}
